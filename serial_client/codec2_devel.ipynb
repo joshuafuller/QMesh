{
 "cells": [
  {
   "cell_type": "code",
   "execution_count": 3,
   "source": [
    "import sys, os\n",
    "import math\n",
    "import pycodec2\n",
    "import wave\n",
    "import struct\n",
    "import pika\n",
    "import qmesh_common\n",
    "import qmesh_pb2\n",
    "import numpy as np\n",
    "import time"
   ],
   "outputs": [],
   "metadata": {}
  },
  {
   "cell_type": "code",
   "execution_count": 13,
   "source": [
    "frames_per_pkt = 4\n",
    "frame_len_ms = 40\n",
    "frame_len_s = frame_len_ms/1000\n",
    "sample_rate = int(8e3)\n",
    "num_channels = 1\n",
    "c2_bitrate = 1200\n",
    "c2 = pycodec2.Codec2(c2_bitrate)\n",
    "size_in_bits = {450    : 18,\n",
    "                700    : 28,\n",
    "                1200   : 48,\n",
    "                1300   : 52,\n",
    "                1600   : 64,\n",
    "                2400   : 96,\n",
    "                3200   : 128}\n",
    "size_in_bytes = { k:int(math.ceil(float(v)/8.0)) for (k,v) in size_in_bits.items() }\n",
    "WAV_STRUCT_FORMAT = '{}h'.format(c2.samples_per_frame())\n",
    "C2_STRUCT_FORMAT = '{}h'.format(size_in_bytes[c2_bitrate])\n"
   ],
   "outputs": [],
   "metadata": {}
  },
  {
   "cell_type": "code",
   "execution_count": 30,
   "source": [
    "# Sanity check that the virtualized audio still works\n",
    "\n",
    "import sounddevice as sd\n",
    "import soundfile as sf\n",
    "\n",
    "filename = './sample_audio/codec2_1.wav'\n",
    "# Extract data and sampling rate from file\n",
    "data, fs = sf.read(filename, dtype='float32')  \n",
    "sd.play(data, fs)\n",
    "status = sd.wait()  # Wait until file is done playing\n"
   ],
   "outputs": [
    {
     "output_type": "stream",
     "name": "stderr",
     "text": [
      "ALSA lib pcm.c:8526:(snd_pcm_recover) underrun occurred\n"
     ]
    }
   ],
   "metadata": {}
  },
  {
   "cell_type": "code",
   "execution_count": 29,
   "source": [
    "# Open up the WAV file and process it to codec2\n",
    "samples = []\n",
    "wav_file_name = './sample_audio/codec2_1.wav'\n",
    "wav_file = wave.open(wav_file_name, 'rb')\n",
    "assert(wav_file.getnchannels() == 1)\n",
    "assert(wav_file.getsampwidth() == 2)\n",
    "print(\"Framerate is %s\" % (wav_file.getframerate()))\n",
    "assert(wav_file.getframerate() == sample_rate)\n",
    "c2_frames = bytes()\n",
    "while True:\n",
    "    frames = wav_file.readframes(int(sample_rate*frame_len_s))\n",
    "    assert(len(frames)/wav_file.getsampwidth() <= 320)\n",
    "    if len(frames)/wav_file.getsampwidth() != int(sample_rate*frame_len_s):\n",
    "        print(\"Done with WAV file!\")\n",
    "        break\n",
    "    samples = np.array(struct.unpack(WAV_STRUCT_FORMAT, frames), dtype=np.int16)\n",
    "    c2_frames += c2.encode(samples)\n",
    "    if len(c2_frames) == frames_per_pkt*size_in_bytes[c2_bitrate]:\n",
    "        print('--------')\n",
    "        print(c2_frames)\n",
    "        c2_frames = bytes()"
   ],
   "outputs": [
    {
     "output_type": "stream",
     "name": "stdout",
     "text": [
      "Framerate is 8000\n",
      "--------\n",
      "b'\\x16[\\x956\\xaf0\\x08A50/d\\xdezu6g\\xe2\\xfac\\x957{0'\n",
      "--------\n",
      "b'\\x0cm\\x155.D\\x19\\xff\\x156/\\xc4\\x02P\\xe55\\xf9z\\xdc\\xf4\\xd90\\xceP'\n",
      "--------\n",
      "b'\\xe2\\xf9d\\x8a\\xdf\\xf2\\xc2\\xf7\\xb00(\\x88\\xf5\\xf7\\xbd\\x94\\xdf@\\xdd\\xf9\\xb5\\xd0\\xfc\\xb0'\n",
      "--------\n",
      "b'\\xc4\\xfe\\xde\\x10Y\\x1a\\xd3\\xf4`\\x10\\xd0~\\xfb\\xaaO\\x00\\xae\\xb0\\xf2\\xd7&\\xd2\\xbb\\xf8'\n",
      "--------\n",
      "b'\\xf0\\xf7u)\\x98\\x02\\xf4\\xfe\\xf5.\\xa7F\\xc9\\xbe\\xf94\\xa1\\x0e\\xfcv\\x96\\x93\\xe9('\n",
      "--------\n",
      "b'\\xa1\\xe9\\r \\xcd\\xde\\xe2\\xf9\\x15/A\\xd2\\xd5~\\x93\\x12\\xd8\\xa2\\xdf\\xf9\\x0e\\xaa\\xa1\\x84'\n",
      "--------\n",
      "b'\\xf3umI\\x9e\\x96\\xddw\\x8e\\x1d\\x8df\\xc0\\xf7z(\\xce^\\xce\\xf5\\xb7\\x08W\\x8e'\n",
      "--------\n",
      "b'\\xfe\\xf5w\\n_\\x04\\xc1\\xf9\\xd2#eR\\x02N\\x18\\x87\\xf1\\x0c\\x01\\x88\\xf8\\x83\\xdc\\xa4'\n",
      "--------\n",
      "b'\\xf6\\xa0\\xcb \\x89\\xea\\t\\xdb\\x9d\\xad\\x85\\xb0\\xdd\\xf60|]\\xbe\\xcc\\xfa\\xb1H\\x87\\xa0'\n",
      "--------\n",
      "b'\\xea\\xfa\\xbf\\xcdf4\\xea\\xfa\\xb5\\xca_\\x8e\\xec\\xfa\\xb6\\xad0\\xa2\\xea\\xf8\\xf4\\xf66l'\n",
      "--------\n",
      "b\"\\xc2\\xf0t\\xf0'h\\xc7\\xf2\\x19\\x11o\\x1c\\xdfx\\xd3\\x10\\x83\\xe0\\xc491\\xaaS\\x14\"\n",
      "--------\n",
      "b'\\xd8\\xf3\\xb1\\xad\\x08p\\xce\\xfa\\xb1\\xae]0\\xc2\\xf0\\xb1\\xa9\\xdd:\\xccv\\xbf\\xcb\\x85$'\n",
      "--------\n",
      "b'\\xf1\\xc6k\"^z+\\x8a\\x12\\'&*\\'\\xc1\"\\x84\\xf0Z+\\x81\\x92\\x84\\xf3\\xfa'\n",
      "--------\n",
      "b'FN\\x12\\x85\\xc3\\xfa1\\x86\\xd2%cj\\x17\\xc1\\x92\\x82\\xf1\\xba\\x18r\\x97\\xb2E\\x82'\n",
      "--------\n",
      "b\"l`U2\\xf6\\x9e\\x01\\xa6\\xd50\\xad(nE\\x955\\xf8\\x9a\\xddy`2'\\xca\"\n",
      "Done with WAV file!\n"
     ]
    }
   ],
   "metadata": {}
  },
  {
   "cell_type": "code",
   "execution_count": 7,
   "source": [
    "# Save the encoded frames to a file\n",
    "c2_file_name = './sample_audio/codec2_1.c2'\n",
    "c2_file = open(c2_file_name, 'w')\n",
    "for c2_frame in c2_frames:\n",
    "    print(c2_frame)\n",
    "    #c2_file.write(struct.pack(c2_frame, "
   ],
   "outputs": [
    {
     "output_type": "stream",
     "name": "stdout",
     "text": [
      "b'\\x10\\xba\\xe56\\xaf0'\n",
      "b'%\\x8e\\xd50/d'\n",
      "b'\\xdezu6g\\xe2'\n",
      "b'\\xfac\\x957{0'\n",
      "b'\\x0cm\\x155.D'\n",
      "b'\\x19\\xff\\x156/\\xc4'\n",
      "b'\\x02P\\xe55\\xf9z'\n",
      "b'\\xdc\\xf4\\xd90\\xceP'\n",
      "b'\\xe2\\xf9d\\x8a\\xdf\\xf2'\n",
      "b'\\xc2\\xf7\\xb00(\\x88'\n",
      "b'\\xf5\\xf7\\xbd\\x94\\xdf@'\n",
      "b'\\xdd\\xf9\\xb5\\xd0\\xfc\\xb0'\n",
      "b'\\xc4\\xfe\\xde\\x10Y\\x1a'\n",
      "b'\\xd3\\xf4`\\x10\\xd0~'\n",
      "b'\\xfb\\xaaO\\x00\\xae\\xb0'\n",
      "b'\\xf2\\xd7&\\xd2\\xbb\\xf8'\n",
      "b'\\xf0\\xf7u)\\x98\\x02'\n",
      "b'\\xf4\\xfe\\xf5.\\xa7F'\n",
      "b'\\xc9\\xbe\\xf94\\xa1\\x0e'\n",
      "b'\\xfcv\\x96\\x93\\xe9('\n",
      "b'\\xa1\\xe9\\r \\xcd\\xde'\n",
      "b'\\xe2\\xf9\\x15/A\\xd2'\n",
      "b'\\xd5~\\x93\\x12\\xd8\\xa2'\n",
      "b'\\xdf\\xf9\\x0e\\xaa\\xa1\\x84'\n",
      "b'\\xf3umI\\x9e\\x96'\n",
      "b'\\xddw\\x8e\\x1d\\x8df'\n",
      "b'\\xc0\\xf7z(\\xce^'\n",
      "b'\\xce\\xf5\\xb7\\x08W\\x8e'\n",
      "b'\\xfe\\xf5w\\n_\\x04'\n",
      "b'\\xc1\\xf9\\xd2#eR'\n",
      "b'\\x02N\\x18\\x87\\xf1\\x0c'\n",
      "b'\\x01\\x88\\xf8\\x83\\xdc\\xa4'\n",
      "b'\\xf6\\xa0\\xcb \\x89\\xea'\n",
      "b'\\t\\xdb\\x9d\\xad\\x85\\xb0'\n",
      "b'\\xdd\\xf60|]\\xbe'\n",
      "b'\\xcc\\xfa\\xb1H\\x87\\xa0'\n",
      "b'\\xea\\xfa\\xbf\\xcdf4'\n",
      "b'\\xea\\xfa\\xb5\\xca_\\x8e'\n",
      "b'\\xec\\xfa\\xb6\\xad0\\xa2'\n",
      "b'\\xea\\xf8\\xf4\\xf66l'\n",
      "b\"\\xc2\\xf0t\\xf0'h\"\n",
      "b'\\xc7\\xf2\\x19\\x11o\\x1c'\n",
      "b'\\xdfx\\xd3\\x10\\x83\\xe0'\n",
      "b'\\xc491\\xaaS\\x14'\n",
      "b'\\xd8\\xf3\\xb1\\xad\\x08p'\n",
      "b'\\xce\\xfa\\xb1\\xae]0'\n",
      "b'\\xc2\\xf0\\xb1\\xa9\\xdd:'\n",
      "b'\\xccv\\xbf\\xcb\\x85$'\n",
      "b'\\xf1\\xc6k\"^z'\n",
      "b\"+\\x8a\\x12'&*\"\n",
      "b'\\'\\xc1\"\\x84\\xf0Z'\n",
      "b'+\\x81\\x92\\x84\\xf3\\xfa'\n",
      "b'FN\\x12\\x85\\xc3\\xfa'\n",
      "b'1\\x86\\xd2%cj'\n",
      "b'\\x17\\xc1\\x92\\x82\\xf1\\xba'\n",
      "b'\\x18r\\x97\\xb2E\\x82'\n",
      "b'l`U2\\xf6\\x9e'\n",
      "b'\\x01\\xa6\\xd50\\xad('\n",
      "b'nE\\x955\\xf8\\x9a'\n",
      "b\"\\xddy`2'\\xca\"\n",
      "b'\\xeeig\\xb2\\x9f\\xca'\n",
      "b'\\xb1\\xdf\\xe56\\xe3d'\n"
     ]
    }
   ],
   "metadata": {}
  },
  {
   "cell_type": "code",
   "execution_count": 8,
   "source": [
    "# Open the file, load up the frames"
   ],
   "outputs": [],
   "metadata": {}
  },
  {
   "cell_type": "code",
   "execution_count": 9,
   "source": [
    "# Do the codec2 decode"
   ],
   "outputs": [],
   "metadata": {}
  },
  {
   "cell_type": "code",
   "execution_count": 10,
   "source": [
    "# Save the WAV to disk"
   ],
   "outputs": [],
   "metadata": {}
  }
 ],
 "metadata": {
  "orig_nbformat": 4,
  "language_info": {
   "name": "python",
   "version": "3.8.10",
   "mimetype": "text/x-python",
   "codemirror_mode": {
    "name": "ipython",
    "version": 3
   },
   "pygments_lexer": "ipython3",
   "nbconvert_exporter": "python",
   "file_extension": ".py"
  },
  "kernelspec": {
   "name": "python3",
   "display_name": "Python 3.8.10 64-bit"
  },
  "interpreter": {
   "hash": "916dbcbb3f70747c44a77c7bcd40155683ae19c65e1c03b4aa3499c5328201f1"
  }
 },
 "nbformat": 4,
 "nbformat_minor": 2
}